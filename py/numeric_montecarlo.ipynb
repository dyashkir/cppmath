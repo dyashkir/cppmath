{
 "cells": [
  {
   "cell_type": "code",
   "execution_count": 233,
   "metadata": {},
   "outputs": [],
   "source": [
    "import numpy as np\n",
    "import time\n",
    "import matplotlib.pyplot as plt\n",
    "import scipy.optimize"
   ]
  },
  {
   "cell_type": "markdown",
   "metadata": {},
   "source": [
    "Simulation code for decay taken from https://stackoverflow.com/questions/27306991/python-numpy-speeding-up-monte-carlo-method-for-radioactive-decay just to use as example.\n",
    "\n",
    "Skip to the end scipy already has a function to do it, but for C++ probably need to implement this but should be ok"
   ]
  },
  {
   "cell_type": "code",
   "execution_count": 230,
   "metadata": {},
   "outputs": [],
   "source": [
    "t12 = 3.1*60.\n",
    "dt = 0.01\n",
    "ln2 = np.log(2)\n",
    "\n",
    "def decay(nsims, X):\n",
    "    ln2_fake, tau = X\n",
    "    #sim_start_time = time.clock()\n",
    "    decay_time = np.zeros(nsims)\n",
    "    t = dt\n",
    "    while 0 in decay_time:\n",
    "        inot_decayed = np.where(decay_time == 0)[0]\n",
    "        idecay_check = np.random.random(len(inot_decayed)) > np.exp(-ln2_fake*dt/tau)\n",
    "        decay_time[inot_decayed[np.where(idecay_check==True)[0]]] = t\n",
    "        t += dt\n",
    "    #sim_end_time = time.clock()\n",
    "    #return (sim_end_time - sim_start_time,decay_time)\n",
    "    return np.mean(decay_time)\n",
    "\n",
    "def some_function(nsims, X):\n",
    "    r = np.random.random((nsims, len(X))) #make random numbers for the whole monte carlo run\n",
    "    X = X*r #make nsims cases, multiple each starting x with a random number\n",
    "    return np.mean(-X[:,0] + X[:,1] - X[:,2] + X[:,3] -X[:,4] + X[:,5])  #now just sum and subtract\n",
    "\n",
    "def x2(nsims, X):\n",
    "    return np.mean(np.square(X))\n",
    "def x21(X, nsims):\n",
    "    return np.mean(np.square(X))"
   ]
  },
  {
   "cell_type": "code",
   "execution_count": 176,
   "metadata": {},
   "outputs": [
    {
     "data": {
      "text/plain": [
       "1.0020009999999997"
      ]
     },
     "execution_count": 176,
     "metadata": {},
     "output_type": "execute_result"
    }
   ],
   "source": [
    "decay(1,np.array([ln2, t12]))\n",
    "some_function(10000,np.array([1,1,1,1,1,1]))\n",
    "x2(1,np.array([1.001]))"
   ]
  },
  {
   "cell_type": "code",
   "execution_count": 226,
   "metadata": {},
   "outputs": [],
   "source": [
    "def numerical_derivative(f, X, delta, num_sims_per_calc):\n",
    "    df = np.copy(X)\n",
    "    fx = f(num_sims_per_calc, X)\n",
    "    \n",
    "    for idx, x in enumerate(X):\n",
    "        X_delta = np.copy(X)\n",
    "        \n",
    "        X_delta[idx] += delta\n",
    "        #print(idx, X_delta, delta, X_delta[idx]+ delta)\n",
    "        \n",
    "        fd = f(num_sims_per_calc, X_delta)\n",
    "        #print(X_delta, fd, fx)\n",
    "        df[idx] = (fd - fx)/delta\n",
    "    return df\n",
    "    \n",
    "    \n",
    "    "
   ]
  },
  {
   "cell_type": "code",
   "execution_count": 227,
   "metadata": {},
   "outputs": [
    {
     "data": {
      "text/plain": [
       "array([  24.92911218,  326.12223423,  -41.32129687, -380.64610635,\n",
       "       -460.31319113, -206.75685706])"
      ]
     },
     "execution_count": 227,
     "metadata": {},
     "output_type": "execute_result"
    }
   ],
   "source": [
    "numerical_derivative(some_function, np.array([1., 1., 1., 1., 1., 1.]), 1e-5, 100000)"
   ]
  },
  {
   "cell_type": "code",
   "execution_count": 228,
   "metadata": {},
   "outputs": [
    {
     "data": {
      "text/plain": [
       "array([2.00001])"
      ]
     },
     "execution_count": 228,
     "metadata": {},
     "output_type": "execute_result"
    }
   ],
   "source": [
    "numerical_derivative(x2, np.array([1.]), 1e-5, 1)"
   ]
  },
  {
   "cell_type": "code",
   "execution_count": 229,
   "metadata": {},
   "outputs": [
    {
     "data": {
      "text/plain": [
       "2.00001000001393"
      ]
     },
     "execution_count": 229,
     "metadata": {},
     "output_type": "execute_result"
    }
   ],
   "source": [
    "(1.0000200001000001 - 1.0)/1e-5\n"
   ]
  },
  {
   "cell_type": "markdown",
   "metadata": {},
   "source": [
    "# oh look :o\n",
    "\n",
    "https://docs.scipy.org/doc/scipy/reference/optimize.html"
   ]
  },
  {
   "cell_type": "code",
   "execution_count": 235,
   "metadata": {},
   "outputs": [
    {
     "data": {
      "text/plain": [
       "array([2.00001])"
      ]
     },
     "execution_count": 235,
     "metadata": {},
     "output_type": "execute_result"
    }
   ],
   "source": [
    "scipy.optimize.approx_fprime(np.array([1.]), x21,[1e-5], 1)"
   ]
  },
  {
   "cell_type": "code",
   "execution_count": null,
   "metadata": {},
   "outputs": [],
   "source": []
  }
 ],
 "metadata": {
  "kernelspec": {
   "display_name": "Python 3",
   "language": "python",
   "name": "python3"
  },
  "language_info": {
   "codemirror_mode": {
    "name": "ipython",
    "version": 3
   },
   "file_extension": ".py",
   "mimetype": "text/x-python",
   "name": "python",
   "nbconvert_exporter": "python",
   "pygments_lexer": "ipython3",
   "version": "3.6.5"
  }
 },
 "nbformat": 4,
 "nbformat_minor": 2
}
